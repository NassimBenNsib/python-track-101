{
 "cells": [
  {
   "cell_type": "markdown",
   "metadata": {},
   "source": [
    "# <center>  Notebook ( 002-Numpy Arrays Creation ) </center>"
   ]
  },
  {
   "cell_type": "markdown",
   "metadata": {},
   "source": [
    "## 0) Quick Start"
   ]
  },
  {
   "cell_type": "markdown",
   "metadata": {},
   "source": [
    "| 1 | 2 | 3 |\n",
    "|---|---|---|"
   ]
  },
  {
   "cell_type": "code",
   "execution_count": 2,
   "metadata": {},
   "outputs": [
    {
     "name": "stdout",
     "output_type": "stream",
     "text": [
      "Our 1D Array : \n",
      "\n",
      " [1 2 3]\n"
     ]
    }
   ],
   "source": [
    "import numpy\n",
    "\n",
    "our_list = [1,2,3]\n",
    "\n",
    "our_array = numpy.array(our_list)\n",
    "\n",
    "print(f\"Our 1D Array : \\n\\n {our_array}\")"
   ]
  },
  {
   "cell_type": "markdown",
   "metadata": {},
   "source": [
    "| 1 | 2 | 3 |\n",
    "|---|---|---|\n",
    "| 5 | 8 | 3 |\n"
   ]
  },
  {
   "cell_type": "code",
   "execution_count": 7,
   "metadata": {},
   "outputs": [
    {
     "name": "stdout",
     "output_type": "stream",
     "text": [
      "Our 2D Array : \n",
      "\n",
      " [[1 2 3]\n",
      " [5 8 7]]\n"
     ]
    }
   ],
   "source": [
    "import numpy\n",
    "\n",
    "our_list = [[1,2,3],[5,8,7]]\n",
    "\n",
    "our_array = numpy.array(our_list)\n",
    "\n",
    "print(f\"Our 2D Array : \\n\\n {our_array}\")"
   ]
  },
  {
   "cell_type": "markdown",
   "metadata": {},
   "source": [
    "| [1,4,5] | [2,5,6] | [3,7,9] |\n",
    "|---------|---------|---------|\n",
    "| [5,7,6] | [8,7,8] | [3,7,9] |\n"
   ]
  },
  {
   "cell_type": "code",
   "execution_count": null,
   "metadata": {},
   "outputs": [
    {
     "name": "stdout",
     "output_type": "stream",
     "text": [
      "Our 2D Array : \n",
      "\n",
      " [[[1 4 5]\n",
      "  [2 5 6]\n",
      "  [3 7 9]]\n",
      "\n",
      " [[5 7 6]\n",
      "  [8 7 8]\n",
      "  [3 7 9]]]\n"
     ]
    }
   ],
   "source": [
    "import numpy\n",
    "\n",
    "our_list = [[[1,4,5],[2,5,6],[3,7,9]],[[5,7,6],[8,7,8],[3,7,9]]]\n",
    "\n",
    "our_array = numpy.array(our_list)\n",
    "\n",
    "print(f\"Our 3D Array : \\n\\n {our_array}\")"
   ]
  },
  {
   "cell_type": "markdown",
   "metadata": {},
   "source": [
    "##### 1) Manual"
   ]
  },
  {
   "cell_type": "code",
   "execution_count": 9,
   "metadata": {},
   "outputs": [
    {
     "name": "stdout",
     "output_type": "stream",
     "text": [
      "Simple array : [1 2 3 4 5 6]\n",
      "2D array : [[1 2 3 4 5 6]\n",
      " [1 2 3 4 5 6]]\n",
      "3D array : [[[1 2]\n",
      "  [5 6]]\n",
      "\n",
      " [[1 2]\n",
      "  [5 6]]\n",
      "\n",
      " [[1 2]\n",
      "  [5 6]]\n",
      "\n",
      " [[1 2]\n",
      "  [5 6]]\n",
      "\n",
      " [[1 2]\n",
      "  [5 6]]\n",
      "\n",
      " [[1 2]\n",
      "  [5 6]]]\n"
     ]
    }
   ],
   "source": [
    "import numpy\n",
    "\n",
    "simple_array = numpy.array([1,2,3,4,5,6])\n",
    "print(f\"Simple array : {simple_array}\")\n",
    "\n",
    "two_d_array = numpy.array([[1,2,3,4,5,6],[1,2,3,4,5,6]])\n",
    "print(f\"2D array : {two_d_array}\")\n",
    "\n",
    "three_d_array = numpy.array([[[1,2],[5,6]],[[1,2],[5,6]],[[1,2],[5,6]],[[1,2],[5,6]],[[1,2],[5,6]],[[1,2],[5,6]]])\n",
    "print(f\"3D array : {three_d_array}\")\n"
   ]
  },
  {
   "cell_type": "markdown",
   "metadata": {},
   "source": [
    "##### 2) Auto-Generate"
   ]
  },
  {
   "cell_type": "code",
   "execution_count": 16,
   "metadata": {},
   "outputs": [
    {
     "name": "stdout",
     "output_type": "stream",
     "text": [
      "Array with arrange  : \n",
      "\n",
      "[1 2 3 4 5 6 7 8 9]\n",
      "Multi array : \n",
      "\n",
      "[[ 1  2  3  4  5  6  7  8  9]\n",
      " [ 2  4  6  8 10 12 14 16 18]\n",
      " [ 3  6  9 12 15 18 21 24 27]\n",
      " [ 4  8 12 16 20 24 28 32 36]\n",
      " [ 5 10 15 20 25 30 35 40 45]\n",
      " [ 6 12 18 24 30 36 42 48 54]\n",
      " [ 7 14 21 28 35 42 49 56 63]\n",
      " [ 8 16 24 32 40 48 56 64 72]\n",
      " [ 9 18 27 36 45 54 63 72 81]]\n",
      "Random array values with 1D: \n",
      "\n",
      "[0.68665741 0.27003028 0.67928425 0.94675581 0.51705532]\n",
      "Random array values with 2D : \n",
      "\n",
      " [[7.60745655e-01 3.44918073e-01 1.34429057e-01 5.62088850e-01]\n",
      " [4.21206754e-01 9.90953585e-02 2.22343824e-01 4.11182749e-02]\n",
      " [1.22127655e-01 9.79406428e-01 5.40822067e-01 7.67597717e-01]\n",
      " [7.06288819e-01 3.48559860e-02 2.38978898e-01 7.53750966e-04]\n",
      " [8.21308498e-01 6.56020919e-01 6.99528002e-01 4.10108505e-01]]\n",
      "Random array values with 3D : \n",
      "\n",
      " [[[0.85399218 0.76670711 0.24128232 0.9583298 ]\n",
      "  [0.56472298 0.31349866 0.43958201 0.45651814]\n",
      "  [0.08177371 0.71675685 0.87286536 0.34802366]\n",
      "  [0.75407637 0.01838442 0.15528614 0.97598078]]\n",
      "\n",
      " [[0.83376475 0.38469805 0.26028679 0.26055764]\n",
      "  [0.32902595 0.6660283  0.53016211 0.56575466]\n",
      "  [0.56726536 0.28974559 0.93583299 0.46603893]\n",
      "  [0.65824517 0.27340933 0.11833387 0.54395919]]\n",
      "\n",
      " [[0.68301265 0.69329344 0.66293433 0.43221218]\n",
      "  [0.02642702 0.31804704 0.18531932 0.52588161]\n",
      "  [0.51342933 0.46852348 0.10500694 0.71217285]\n",
      "  [0.28307179 0.6177519  0.26931173 0.05880462]]\n",
      "\n",
      " [[0.48583696 0.59659043 0.04694458 0.76847921]\n",
      "  [0.30277179 0.04034343 0.42430544 0.9498892 ]\n",
      "  [0.88190216 0.93645173 0.24359799 0.75187237]\n",
      "  [0.82475611 0.59326527 0.13890671 0.94781599]]\n",
      "\n",
      " [[0.22623881 0.79203267 0.4124996  0.47370927]\n",
      "  [0.22041135 0.38634248 0.47440318 0.0479715 ]\n",
      "  [0.00375667 0.23276487 0.01170521 0.10667499]\n",
      "  [0.64004654 0.70337838 0.35955152 0.78617529]]]\n"
     ]
    }
   ],
   "source": [
    "import numpy\n",
    "\n",
    "simple_array_with_range = numpy.arange(1,10)\n",
    "print(f\"Array with arrange  : \\n\\n{simple_array_with_range}\")\n",
    "\n",
    "multiplcation_array = numpy.array([[i*j for j in range(1,10)] for i in range(1,10)])\n",
    "print(f\"Multi array : \\n\\n{multiplcation_array}\")\n",
    "\n",
    "array_with_random_value = numpy.random.random(size=5)\n",
    "print(f\"Random array values with 1D: \\n\\n{array_with_random_value}\")\n",
    "\n",
    "array_with_random_value = numpy.random.random(size=(5,4))\n",
    "print(f\"Random array values with 2D : \\n\\n {array_with_random_value}\")\n",
    "\n",
    "\n",
    "array_with_random_value = numpy.random.random(size=(5,4,4))\n",
    "print(f\"Random array values with 3D : \\n\\n {array_with_random_value}\")\n"
   ]
  },
  {
   "cell_type": "markdown",
   "metadata": {},
   "source": [
    "##### 3) From Files"
   ]
  },
  {
   "cell_type": "code",
   "execution_count": 1,
   "metadata": {},
   "outputs": [
    {
     "name": "stdout",
     "output_type": "stream",
     "text": [
      "[[1. 2. 3. 4. 5. 6.]\n",
      " [1. 2. 8. 4. 5. 6.]\n",
      " [8. 2. 3. 5. 5. 6.]\n",
      " [1. 2. 3. 4. 5. 6.]]\n",
      "\n",
      "[[1. 2. 3. 4. 5. 6.]\n",
      " [1. 2. 8. 4. 5. 6.]\n",
      " [8. 2. 3. 5. 5. 6.]\n",
      " [1. 2. 3. 4. 5. 6.]]\n",
      "\n",
      "[nan nan nan nan]\n"
     ]
    }
   ],
   "source": [
    "import numpy\n",
    "\n",
    "array_with_data_1 = numpy.genfromtxt(\"./files/data1.txt\",delimiter=\",\")\n",
    "print(array_with_data_1,end=\"\\n\\n\")\n",
    "\n",
    "array_with_data_2 = numpy.genfromtxt(\"./files/data2.txt\",delimiter=\"-\")\n",
    "print(array_with_data_2,end=\"\\n\\n\")\n",
    "\n",
    "array_with_data_2 = numpy.genfromtxt(\"./files/data2.txt\",delimiter=\"*\")\n",
    "print(array_with_data_2)\n",
    "\n"
   ]
  }
 ],
 "metadata": {
  "kernelspec": {
   "display_name": "Python 3",
   "language": "python",
   "name": "python3"
  },
  "language_info": {
   "codemirror_mode": {
    "name": "ipython",
    "version": 3
   },
   "file_extension": ".py",
   "mimetype": "text/x-python",
   "name": "python",
   "nbconvert_exporter": "python",
   "pygments_lexer": "ipython3",
   "version": "3.8.0"
  },
  "orig_nbformat": 4
 },
 "nbformat": 4,
 "nbformat_minor": 2
}
