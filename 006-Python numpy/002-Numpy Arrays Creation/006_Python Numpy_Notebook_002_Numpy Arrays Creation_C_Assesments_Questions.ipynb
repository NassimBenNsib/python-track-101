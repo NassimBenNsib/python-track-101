{
 "cells": [
  {
   "cell_type": "markdown",
   "metadata": {},
   "source": [
    "# <center>  Assesments Questions ( 002-Numpy Arrays Creation ) </center>"
   ]
  },
  {
   "cell_type": "markdown",
   "metadata": {},
   "source": [
    "#####   1)  How do you create an array named tab containing :[[ 1, 2, 3, 4], [ 5, 6, 7, 8], [ 9, 10, 11, 12]]?\n"
   ]
  },
  {
   "cell_type": "markdown",
   "metadata": {},
   "source": [
    "-   [ ]  tab= np.array([[1,2,3,4], [5,6,7,8], [9,10,11,12]])\n",
    "-   [ ]  tab=np.array([[1,5,9],[2,6,10],[3,7,11],[4,8,12]])\n",
    "-   [ ]  tab1= np.array([[1,2,3,4], [5,6,7,8], [9,10,11,12]])"
   ]
  }
 ],
 "metadata": {
  "kernelspec": {
   "display_name": "Python 3.10.6 64-bit",
   "language": "python",
   "name": "python3"
  },
  "language_info": {
   "name": "python",
   "version": "3.10.6"
  },
  "orig_nbformat": 4,
  "vscode": {
   "interpreter": {
    "hash": "c16710ebbdb5e6ed5a9d62e38098ad84d6bca38b6fed70e4e0fd1ff13f15ff2f"
   }
  }
 },
 "nbformat": 4,
 "nbformat_minor": 2
}
