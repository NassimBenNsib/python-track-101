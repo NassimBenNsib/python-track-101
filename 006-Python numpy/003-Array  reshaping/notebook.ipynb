{
 "cells": [
  {
   "cell_type": "markdown",
   "metadata": {},
   "source": [
    "# Notebook ( Array  reshaping )"
   ]
  },
  {
   "cell_type": "markdown",
   "metadata": {},
   "source": [
    "### I) Shape"
   ]
  },
  {
   "cell_type": "code",
   "execution_count": 1,
   "metadata": {},
   "outputs": [
    {
     "name": "stdout",
     "output_type": "stream",
     "text": [
      "Array 1D \n",
      " [1 2 3] \n",
      "shape \n",
      " (3,)\n",
      "\n",
      "\n",
      "Array 2D \n",
      " [[1 2]\n",
      " [1 6]\n",
      " [1 3]] \n",
      "shape \n",
      " (3, 2)\n",
      "\n",
      "\n",
      "Array 3D \n",
      " [[[1 2 3]\n",
      "  [1 2 3]\n",
      "  [1 2 3]]\n",
      "\n",
      " [[1 2 3]\n",
      "  [1 2 3]\n",
      "  [1 2 3]]\n",
      "\n",
      " [[1 2 3]\n",
      "  [1 2 3]\n",
      "  [1 2 3]]] \n",
      "shape \n",
      " (3, 3, 3)\n",
      "\n",
      "\n"
     ]
    }
   ],
   "source": [
    "import numpy\n",
    "\n",
    "array_1d  = numpy.array([1,2,3])\n",
    "print(f\"Array 1D \\n {array_1d} \\nshape \\n {array_1d.shape}\",end=\"\\n\\n\\n\")\n",
    "\n",
    "array_2d  = numpy.array([[1,2],[1,6],[1,3]])\n",
    "print(f\"Array 2D \\n {array_2d} \\nshape \\n {array_2d.shape}\",end=\"\\n\\n\\n\")\n",
    "\n",
    "array_3d  = numpy.array([[[1,2,3],[1,2,3],[1,2,3]],[[1,2,3],[1,2,3],[1,2,3]],[[1,2,3],[1,2,3],[1,2,3]]])\n",
    "print(f\"Array 3D \\n {array_3d} \\nshape \\n {array_3d.shape}\",end=\"\\n\\n\\n\")\n"
   ]
  },
  {
   "cell_type": "markdown",
   "metadata": {},
   "source": [
    "### II) Reshape"
   ]
  },
  {
   "cell_type": "code",
   "execution_count": 6,
   "metadata": {},
   "outputs": [
    {
     "name": "stdout",
     "output_type": "stream",
     "text": [
      "Array before the first reshaping :\n",
      "\n",
      " [  1   2   3   4   5   6   7   8   9  10  11  12  13  14  15  16  17  18\n",
      "  19  20  21  22  23  24  25  26  27  28  29  30  31  32  33  34  35  36\n",
      "  37  38  39  40  41  42  43  44  45  46  47  48  49  50  51  52  53  54\n",
      "  55  56  57  58  59  60  61  62  63  64  65  66  67  68  69  70  71  72\n",
      "  73  74  75  76  77  78  79  80  81  82  83  84  85  86  87  88  89  90\n",
      "  91  92  93  94  95  96  97  98  99 100] \n",
      "Array after the first reshaping 2D : \n",
      "\n",
      "[[  1   2   3   4   5   6   7   8   9  10  11  12  13  14  15  16  17  18\n",
      "   19  20]\n",
      " [ 21  22  23  24  25  26  27  28  29  30  31  32  33  34  35  36  37  38\n",
      "   39  40]\n",
      " [ 41  42  43  44  45  46  47  48  49  50  51  52  53  54  55  56  57  58\n",
      "   59  60]\n",
      " [ 61  62  63  64  65  66  67  68  69  70  71  72  73  74  75  76  77  78\n",
      "   79  80]\n",
      " [ 81  82  83  84  85  86  87  88  89  90  91  92  93  94  95  96  97  98\n",
      "   99 100]] \n",
      "Array after the second reshaping 2D : \n",
      "\n",
      "[[  1   2   3   4   5   6   7   8   9  10  11  12  13  14  15  16  17  18\n",
      "   19  20  21  22  23  24  25]\n",
      " [ 26  27  28  29  30  31  32  33  34  35  36  37  38  39  40  41  42  43\n",
      "   44  45  46  47  48  49  50]\n",
      " [ 51  52  53  54  55  56  57  58  59  60  61  62  63  64  65  66  67  68\n",
      "   69  70  71  72  73  74  75]\n",
      " [ 76  77  78  79  80  81  82  83  84  85  86  87  88  89  90  91  92  93\n",
      "   94  95  96  97  98  99 100]] \n",
      "Array after the 3rd reshaping 3D : \n",
      "\n",
      "[[[  1   2   3   4   5   6   7   8   9  10  11  12  13  14  15  16  17\n",
      "    18  19  20  21  22  23  24  25]\n",
      "  [ 26  27  28  29  30  31  32  33  34  35  36  37  38  39  40  41  42\n",
      "    43  44  45  46  47  48  49  50]]\n",
      "\n",
      " [[ 51  52  53  54  55  56  57  58  59  60  61  62  63  64  65  66  67\n",
      "    68  69  70  71  72  73  74  75]\n",
      "  [ 76  77  78  79  80  81  82  83  84  85  86  87  88  89  90  91  92\n",
      "    93  94  95  96  97  98  99 100]]] \n"
     ]
    }
   ],
   "source": [
    "import numpy\n",
    "\n",
    "sample_array = numpy.arange(1,101)\n",
    "print(f\"Array before the first reshaping :\\n\\n {sample_array} \") \n",
    "\n",
    "print(f\"Array after the first reshaping 2D : \\n\\n{sample_array.reshape(5,20)} \") \n",
    "\n",
    "print(f\"Array after the second reshaping 2D : \\n\\n{sample_array.reshape(4,25)} \") \n",
    "\n",
    "print(f\"Array after the 3rd reshaping 3D : \\n\\n{sample_array.reshape(2,2,25)} \") \n",
    "\n"
   ]
  }
 ],
 "metadata": {
  "kernelspec": {
   "display_name": "Python 3",
   "language": "python",
   "name": "python3"
  },
  "language_info": {
   "codemirror_mode": {
    "name": "ipython",
    "version": 3
   },
   "file_extension": ".py",
   "mimetype": "text/x-python",
   "name": "python",
   "nbconvert_exporter": "python",
   "pygments_lexer": "ipython3",
   "version": "3.8.0"
  },
  "orig_nbformat": 4
 },
 "nbformat": 4,
 "nbformat_minor": 2
}
