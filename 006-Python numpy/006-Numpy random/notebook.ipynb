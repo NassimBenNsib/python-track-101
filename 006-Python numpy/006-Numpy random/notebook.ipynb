{
 "cells": [
  {
   "cell_type": "markdown",
   "metadata": {},
   "source": [
    "# Notebook ( 006-Numpy random )"
   ]
  },
  {
   "cell_type": "code",
   "execution_count": 7,
   "metadata": {},
   "outputs": [
    {
     "name": "stdout",
     "output_type": "stream",
     "text": [
      "Our Array (5,6,8)  : \n",
      "\n",
      "[[[0.0668092  0.56146578 0.92323681 0.46898915]\n",
      "  [0.82085482 0.4226414  0.53417165 0.95659606]\n",
      "  [0.90512784 0.99882191 0.66307257 0.41016015]]\n",
      "\n",
      " [[0.24147962 0.50289038 0.83295474 0.06624358]\n",
      "  [0.55522693 0.4397517  0.58664266 0.75626946]\n",
      "  [0.81043036 0.00583008 0.65006323 0.33264309]]]\n",
      "Our Array (5,6,8)  : \n",
      "\n",
      "[[[0.07881434 0.52373425 0.35617451 0.09927576]\n",
      "  [0.16769805 0.46189072 0.08819357 0.29637204]\n",
      "  [0.03232164 0.90379061 0.06888038 0.78704822]]\n",
      "\n",
      " [[0.23302962 0.65107554 0.76060907 0.27343187]\n",
      "  [0.35104151 0.53943843 0.895382   0.68615422]\n",
      "  [0.9357902  0.62827309 0.47582591 0.59525115]]]\n",
      "Our Array (2)  : \n",
      "\n",
      "[0.83704775 0.06595158]\n",
      "Our Array (5)  : \n",
      "\n",
      "[0.54617983 0.5954471  0.19682448 0.62165448 0.79027375]\n",
      "Our Array (5,3) & min=100 and max=500  : \n",
      "\n",
      "[[180 238 125]\n",
      " [204 151 319]\n",
      " [484 203 324]\n",
      " [349 401 399]\n",
      " [109 393 307]]\n"
     ]
    }
   ],
   "source": [
    "import numpy\n",
    "\n",
    "\n",
    "our_array = numpy.random.random(size=(2,3,4))\n",
    "print(f\"Our Array (5,6,8)  : \\n\\n{our_array}\")\n",
    "\n",
    "our_array = numpy.random.random((2,3,4))\n",
    "print(f\"Our Array (5,6,8)  : \\n\\n{our_array}\")\n",
    "\n",
    "our_array = numpy.random.random(size=(2))\n",
    "print(f\"Our Array (2)  : \\n\\n{our_array}\")\n",
    "\n",
    "our_array = numpy.random.random(5)\n",
    "print(f\"Our Array (5)  : \\n\\n{our_array}\")\n",
    "\n",
    "\n",
    "our_array = numpy.random.randint(100,500,size=(5,3))\n",
    "print(f\"Our Array (5,3) & min=100 and max=500  : \\n\\n{our_array}\")\n"
   ]
  }
 ],
 "metadata": {
  "kernelspec": {
   "display_name": "Python 3.10.6 64-bit",
   "language": "python",
   "name": "python3"
  },
  "language_info": {
   "codemirror_mode": {
    "name": "ipython",
    "version": 3
   },
   "file_extension": ".py",
   "mimetype": "text/x-python",
   "name": "python",
   "nbconvert_exporter": "python",
   "pygments_lexer": "ipython3",
   "version": "3.10.6"
  },
  "orig_nbformat": 4,
  "vscode": {
   "interpreter": {
    "hash": "c16710ebbdb5e6ed5a9d62e38098ad84d6bca38b6fed70e4e0fd1ff13f15ff2f"
   }
  }
 },
 "nbformat": 4,
 "nbformat_minor": 2
}
