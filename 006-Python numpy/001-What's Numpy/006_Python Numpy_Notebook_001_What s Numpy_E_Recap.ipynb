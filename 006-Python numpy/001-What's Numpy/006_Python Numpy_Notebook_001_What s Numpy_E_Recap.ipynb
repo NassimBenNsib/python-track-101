{
 "cells": [
  {
   "cell_type": "markdown",
   "metadata": {},
   "source": [
    "# <center>  Recap ( 001-What's Numpy ) </center>"
   ]
  },
  {
   "cell_type": "markdown",
   "metadata": {},
   "source": [
    "## I) [NumPy](https://numpy.org/)"
   ]
  },
  {
   "cell_type": "markdown",
   "metadata": {},
   "source": [
    ">   NumPy is a library for the Python programming language.\n",
    ">\n",
    ">   It adds support for large, multi-dimensional arrays and matrices, along with a large collection of high-level mathematical functions to operate on these arrays."
   ]
  },
  {
   "cell_type": "markdown",
   "metadata": {},
   "source": [
    "## II) NumPy arrays"
   ]
  },
  {
   "cell_type": "markdown",
   "metadata": {},
   "source": [
    "-   Are a grid of values that are the same type\n",
    "-   Are large and multidimensional"
   ]
  }
 ],
 "metadata": {
  "kernelspec": {
   "display_name": "Python 3.10.6 64-bit",
   "language": "python",
   "name": "python3"
  },
  "language_info": {
   "name": "python",
   "version": "3.10.6"
  },
  "orig_nbformat": 4,
  "vscode": {
   "interpreter": {
    "hash": "c16710ebbdb5e6ed5a9d62e38098ad84d6bca38b6fed70e4e0fd1ff13f15ff2f"
   }
  }
 },
 "nbformat": 4,
 "nbformat_minor": 2
}
