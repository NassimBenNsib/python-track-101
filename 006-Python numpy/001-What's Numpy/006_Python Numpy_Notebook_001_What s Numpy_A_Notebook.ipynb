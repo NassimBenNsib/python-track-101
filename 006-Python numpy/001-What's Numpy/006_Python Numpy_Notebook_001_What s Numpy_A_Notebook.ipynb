{
 "cells": [
  {
   "cell_type": "markdown",
   "metadata": {},
   "source": [
    "# <center>  Notebook ( 001-What's Numpy ) </center>"
   ]
  },
  {
   "cell_type": "markdown",
   "metadata": {},
   "source": [
    "## I) [Numpy ?](https://numpy.org)\n"
   ]
  },
  {
   "cell_type": "markdown",
   "metadata": {},
   "source": [
    "> NumPy is the fundamental package for scientific computing in Python. It is a Python library that provides a multidimensional array object, various derived objects (such as masked arrays and matrices), and an assortment of routines for fast operations on arrays, including mathematical, logical, shape manipulation, sorting, selecting, I/O, discrete Fourier transforms, basic linear algebra, basic statistical operations, random simulation and much more."
   ]
  },
  {
   "cell_type": "markdown",
   "metadata": {},
   "source": [
    "## II) Installation"
   ]
  },
  {
   "cell_type": "markdown",
   "metadata": {},
   "source": [
    "### 1) Jupyter Notebook\n"
   ]
  },
  {
   "cell_type": "code",
   "execution_count": null,
   "metadata": {},
   "outputs": [],
   "source": [
    "import sys\n",
    "!{sys.executable} -m pip install numpy"
   ]
  },
  {
   "cell_type": "markdown",
   "metadata": {},
   "source": [
    "### 2) CMD\n"
   ]
  },
  {
   "cell_type": "markdown",
   "metadata": {},
   "source": [
    "```\n",
    "pip intall numpy\n",
    "```"
   ]
  },
  {
   "cell_type": "markdown",
   "metadata": {},
   "source": [
    "## III) Importing"
   ]
  },
  {
   "cell_type": "markdown",
   "metadata": {},
   "source": [
    "### 0) Version"
   ]
  },
  {
   "cell_type": "code",
   "execution_count": null,
   "metadata": {},
   "outputs": [],
   "source": [
    "import numpy\n",
    "\n",
    "print(f\"Numpy Version : {numpy.__version__}\")\n"
   ]
  },
  {
   "cell_type": "markdown",
   "metadata": {},
   "source": [
    "### 1) Simple Way"
   ]
  },
  {
   "cell_type": "code",
   "execution_count": null,
   "metadata": {},
   "outputs": [],
   "source": [
    "import numpy\n",
    "\n",
    "\n",
    "print(f\"================ (Begin) Example of array using list (Begin) ==============\",end=\"\\n\\n\")\n",
    "sample_array = numpy.array([1,2,3,4,5,6,7,8,9,10])\n",
    "print(sample_array,end=\"\\n\\n\")\n",
    "print(f\"================== (End) Example of array using list (End) ================\",end=\"\\n\\n\\n\")\n",
    "\n",
    "print(f\"================ (Begin) Example of array with random values (Begin) ==============\",end=\"\\n\\n\")\n",
    "random_array = numpy.random.random((1,5))\n",
    "print(random_array,end=\"\\n\\n\")\n",
    "print(f\"================== (End) Example of array with random values (End) ================\")\n"
   ]
  },
  {
   "cell_type": "markdown",
   "metadata": {},
   "source": [
    "### 2) Using Aliases"
   ]
  },
  {
   "cell_type": "code",
   "execution_count": null,
   "metadata": {},
   "outputs": [],
   "source": [
    "import numpy as np\n",
    "\n",
    "\n",
    "print(f\"================ (Begin) Example of array using list (Begin) ==============\",end=\"\\n\\n\")\n",
    "sample_array = np.array([1,2,3,4,5,6,7,8,9,10])\n",
    "print(sample_array,end=\"\\n\\n\")\n",
    "print(f\"================== (End) Example of array using list (End) ================\",end=\"\\n\\n\\n\")\n",
    "\n",
    "print(f\"================ (Begin) Example of array with random values (Begin) ==============\",end=\"\\n\\n\")\n",
    "random_array = np.random.random((1,5))\n",
    "print(random_array,end=\"\\n\\n\")\n",
    "print(f\"================== (End) Example of array with random values (End) ================\")\n"
   ]
  },
  {
   "cell_type": "markdown",
   "metadata": {},
   "source": [
    "### 3) Importing All"
   ]
  },
  {
   "cell_type": "code",
   "execution_count": null,
   "metadata": {},
   "outputs": [],
   "source": [
    "from numpy import *\n",
    "\n",
    "print(f\"================ (Begin) Example of array using list (Begin) ==============\",end=\"\\n\\n\")\n",
    "sample_array = array([1,2,3,4,5,6,7,8,9,10])\n",
    "print(sample_array,end=\"\\n\\n\")\n",
    "print(f\"================== (End) Example of array using list (End) ================\",end=\"\\n\\n\\n\")\n",
    "\n",
    "print(f\"================ (Begin) Example of array with random values (Begin) ==============\",end=\"\\n\\n\")\n",
    "random_array = random.random((1,5))\n",
    "print(random_array,end=\"\\n\\n\")\n",
    "print(f\"================== (End) Example of array with random values (End) ================\")\n"
   ]
  },
  {
   "cell_type": "markdown",
   "metadata": {},
   "source": [
    "### 4) Imports With Names"
   ]
  },
  {
   "cell_type": "code",
   "execution_count": null,
   "metadata": {},
   "outputs": [],
   "source": [
    "from numpy import array,random\n",
    "\n",
    "print(f\"================ (Begin) Example of array using list (Begin) ==============\",end=\"\\n\\n\")\n",
    "sample_array = array([1,2,3,4,5,6,7,8,9,10])\n",
    "print(sample_array,end=\"\\n\\n\")\n",
    "print(f\"================== (End) Example of array using list (End) ================\",end=\"\\n\\n\\n\")\n",
    "\n",
    "print(f\"================ (Begin) Example of array with random values (Begin) ==============\",end=\"\\n\\n\")\n",
    "random_array = random.random((1,5))\n",
    "print(random_array,end=\"\\n\\n\")\n",
    "print(f\"================== (End) Example of array with random values (End) ================\")\n"
   ]
  }
 ],
 "metadata": {
  "kernelspec": {
   "display_name": "Python 3",
   "language": "python",
   "name": "python3"
  },
  "language_info": {
   "codemirror_mode": {
    "name": "ipython",
    "version": 3
   },
   "file_extension": ".py",
   "mimetype": "text/x-python",
   "name": "python",
   "nbconvert_exporter": "python",
   "pygments_lexer": "ipython3",
   "version": "3.8.0"
  },
  "orig_nbformat": 4
 },
 "nbformat": 4,
 "nbformat_minor": 2
}
