{
 "cells": [
  {
   "cell_type": "markdown",
   "metadata": {},
   "source": [
    "# <center>  Useful Links ( 001-What's Numpy ) </center>"
   ]
  },
  {
   "cell_type": "markdown",
   "metadata": {},
   "source": [
    "## I) Videos"
   ]
  },
  {
   "cell_type": "markdown",
   "metadata": {},
   "source": [
    "|               Title               |                  Description                  |                           Link                        |\n",
    "|-----------------------------------|-----------------------------------------------|-------------------------------------------------------|\n",
    "|              Title1               |                 Description1                  |                          Link1                        |"
   ]
  },
  {
   "cell_type": "markdown",
   "metadata": {},
   "source": [
    "## II) Articles"
   ]
  },
  {
   "cell_type": "markdown",
   "metadata": {},
   "source": [
    "|               Title               |                  Description                  |                           Link                        |\n",
    "|-----------------------------------|-----------------------------------------------|-------------------------------------------------------|\n",
    "|              Title1               |                 Description1                  |                          Link1                        |"
   ]
  },
  {
   "cell_type": "markdown",
   "metadata": {},
   "source": [
    "## III) Docs"
   ]
  },
  {
   "cell_type": "markdown",
   "metadata": {},
   "source": [
    "|               Title               |                  Description                  |                           Link                        |\n",
    "|-----------------------------------|-----------------------------------------------|-------------------------------------------------------|\n",
    "|              Title1               |                 Description1                  |                          Link1                        |"
   ]
  },
  {
   "cell_type": "markdown",
   "metadata": {},
   "source": [
    "## IV) Course"
   ]
  },
  {
   "cell_type": "markdown",
   "metadata": {},
   "source": [
    "|               Title               |                  Description                  |                           Link                        |\n",
    "|-----------------------------------|-----------------------------------------------|-------------------------------------------------------|\n",
    "|              Title1               |                 Description1                  |                          Link1                        |"
   ]
  }
 ],
 "metadata": {
  "kernelspec": {
   "display_name": "Python 3.10.6 64-bit",
   "language": "python",
   "name": "python3"
  },
  "language_info": {
   "name": "python",
   "version": "3.10.6"
  },
  "orig_nbformat": 4,
  "vscode": {
   "interpreter": {
    "hash": "c16710ebbdb5e6ed5a9d62e38098ad84d6bca38b6fed70e4e0fd1ff13f15ff2f"
   }
  }
 },
 "nbformat": 4,
 "nbformat_minor": 2
}
