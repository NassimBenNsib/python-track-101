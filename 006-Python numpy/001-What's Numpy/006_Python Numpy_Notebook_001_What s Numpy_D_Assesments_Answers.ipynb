{
 "cells": [
  {
   "cell_type": "markdown",
   "metadata": {},
   "source": [
    "# <center>  Assesments Answers ( 001-What's Numpy ) </center>"
   ]
  },
  {
   "cell_type": "markdown",
   "metadata": {},
   "source": [
    "##### 1) How can we import modules in Python?"
   ]
  },
  {
   "cell_type": "markdown",
   "metadata": {},
   "source": [
    "-   [x]  Use the import keyword\n",
    "-   [ ]  Use the Import keyword"
   ]
  }
 ],
 "metadata": {
  "kernelspec": {
   "display_name": "Python 3.10.6 64-bit",
   "language": "python",
   "name": "python3"
  },
  "language_info": {
   "name": "python",
   "version": "3.10.6"
  },
  "orig_nbformat": 4,
  "vscode": {
   "interpreter": {
    "hash": "c16710ebbdb5e6ed5a9d62e38098ad84d6bca38b6fed70e4e0fd1ff13f15ff2f"
   }
  }
 },
 "nbformat": 4,
 "nbformat_minor": 2
}
