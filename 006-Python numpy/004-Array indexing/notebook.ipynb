{
 "cells": [
  {
   "cell_type": "markdown",
   "metadata": {},
   "source": [
    "# Notebook ( 004-Array indexing )"
   ]
  },
  {
   "cell_type": "code",
   "execution_count": 6,
   "metadata": {},
   "outputs": [
    {
     "name": "stdout",
     "output_type": "stream",
     "text": [
      "Our Array (5,20)  : \n",
      "\n",
      "[[  1   2   3   4   5   6   7   8   9  10  11  12  13  14  15  16  17  18\n",
      "   19  20]\n",
      " [ 21  22  23  24  25  26  27  28  29  30  31  32  33  34  35  36  37  38\n",
      "   39  40]\n",
      " [ 41  42  43  44  45  46  47  48  49  50  51  52  53  54  55  56  57  58\n",
      "   59  60]\n",
      " [ 61  62  63  64  65  66  67  68  69  70  71  72  73  74  75  76  77  78\n",
      "   79  80]\n",
      " [ 81  82  83  84  85  86  87  88  89  90  91  92  93  94  95  96  97  98\n",
      "   99 100]]\n",
      "Take the element in line 5 and column 3 : 83\n",
      "Take the element in line 5 and column 3 : 85\n",
      "Take the element in line n and column n : 100\n",
      "Take the element in line n and column n : 100\n"
     ]
    }
   ],
   "source": [
    "import numpy\n",
    "\n",
    "\n",
    "our_array = numpy.arange(1,101)\n",
    "\n",
    "our_array = our_array.reshape(5,20)\n",
    "\n",
    "print(f\"Our Array (5,20)  : \\n\\n{our_array}\")\n",
    "\n",
    "print(f\"Take the element in line 5 and column 3 : {our_array[4,2]}\")\n",
    "\n",
    "print(f\"Take the element in line 5 and column 3 : {our_array[-1,-18]}\")\n",
    "\n",
    "print(f\"Take the element in line n and column n : {our_array[-1,-1]}\")\n",
    "\n",
    "print(f\"Take the element in line n and column n : {our_array[our_array.shape[0]-1,our_array.shape[1]-1]}\")\n"
   ]
  },
  {
   "cell_type": "code",
   "execution_count": 16,
   "metadata": {},
   "outputs": [
    {
     "name": "stdout",
     "output_type": "stream",
     "text": [
      "Our Array (5,20)  : \n",
      "\n",
      "[[  1   2   3   4   5   6   7   8   9  10  11  12  13  14  15  16  17  18\n",
      "   19  20]\n",
      " [ 21  22  23  24  25  26  27  28  29  30  31  32  33  34  35  36  37  38\n",
      "   39  40]\n",
      " [ 41  42  43  44  45  46  47  48  49  50  51  52  53  54  55  56  57  58\n",
      "   59  60]\n",
      " [ 61  62  63  64  65  66  67  68  69  70  71  72  73  74  75  76  77  78\n",
      "   79  80]\n",
      " [ 81  82  83  84  85  86  87  88  89  90  91  92  93  94  95  96  97  98\n",
      "   99 100]]\n",
      "\n",
      "\n",
      "2nd line : [21 22 23 24 25 26 27 28 29 30 31 32 33 34 35 36 37 38 39 40]\n",
      "\n",
      "\n",
      "Last line : [ 81  82  83  84  85  86  87  88  89  90  91  92  93  94  95  96  97  98\n",
      "  99 100]\n",
      "\n",
      "\n",
      "Last and first line : [[  1   2   3   4   5   6   7   8   9  10  11  12  13  14  15  16  17  18\n",
      "   19  20]\n",
      " [ 81  82  83  84  85  86  87  88  89  90  91  92  93  94  95  96  97  98\n",
      "   99 100]]\n",
      "\n",
      "\n",
      "Inside : [[22 23 24 25 26 27 28 29 30 31 32 33 34 35 36 37 38 39]\n",
      " [42 43 44 45 46 47 48 49 50 51 52 53 54 55 56 57 58 59]\n",
      " [62 63 64 65 66 67 68 69 70 71 72 73 74 75 76 77 78 79]]\n",
      "\n",
      "\n",
      "Inside : 51\n",
      "\n",
      "\n"
     ]
    }
   ],
   "source": [
    "import numpy\n",
    "\n",
    "\n",
    "our_array = numpy.arange(1,101)\n",
    "\n",
    "our_array = our_array.reshape(5,20)\n",
    "\n",
    "print(f\"Our Array (5,20)  : \\n\\n{our_array}\\n\\n\")\n",
    "\n",
    "print(f\"2nd line : {our_array[1,:]}\\n\\n\")\n",
    "\n",
    "print(f\"Last line : {our_array[-1,:]}\\n\\n\")\n",
    "\n",
    "print(f\"Last and first line : {our_array[[0,-1],:]}\\n\\n\")\n",
    "\n",
    "print(f\"Inside : {our_array[1:our_array.shape[0]-1,1:our_array.shape[1]-1]}\\n\\n\")\n",
    "\n",
    "print(f\"Center element : {numpy.take(our_array,our_array.size//2)}\\n\\n\")\n"
   ]
  }
 ],
 "metadata": {
  "kernelspec": {
   "display_name": "Python 3.10.6 64-bit",
   "language": "python",
   "name": "python3"
  },
  "language_info": {
   "codemirror_mode": {
    "name": "ipython",
    "version": 3
   },
   "file_extension": ".py",
   "mimetype": "text/x-python",
   "name": "python",
   "nbconvert_exporter": "python",
   "pygments_lexer": "ipython3",
   "version": "3.10.6"
  },
  "orig_nbformat": 4,
  "vscode": {
   "interpreter": {
    "hash": "c16710ebbdb5e6ed5a9d62e38098ad84d6bca38b6fed70e4e0fd1ff13f15ff2f"
   }
  }
 },
 "nbformat": 4,
 "nbformat_minor": 2
}
