{
 "cells": [
  {
   "cell_type": "markdown",
   "metadata": {},
   "source": [
    "# Notebook ( 008-Numpy Addition & Subtration )"
   ]
  },
  {
   "cell_type": "code",
   "execution_count": 1,
   "metadata": {},
   "outputs": [
    {
     "name": "stdout",
     "output_type": "stream",
     "text": [
      "[2. 2. 2. 2. 2. 2. 2. 2. 2. 2.]\n",
      "[2. 2. 2. 2. 2. 2. 2. 2. 2. 2.]\n",
      "[-1. -1. -1. -1. -1. -1. -1. -1. -1. -1.]\n",
      "[-10. -10. -10. -10. -10.]\n"
     ]
    }
   ],
   "source": [
    "from numpy import subtract,add,ones,full\n",
    "\n",
    "print(f\"{ones(10)+ones(10)}\")\n",
    "print(f\"{add(ones(10),ones(10))}\")\n",
    "\n",
    "print(f\"{ones(10)-2*ones(10)}\")\n",
    "print(f\"{subtract(ones(5),ones(5)+10*ones(5))}\")\n"
   ]
  }
 ],
 "metadata": {
  "kernelspec": {
   "display_name": "Python 3",
   "language": "python",
   "name": "python3"
  },
  "language_info": {
   "codemirror_mode": {
    "name": "ipython",
    "version": 3
   },
   "file_extension": ".py",
   "mimetype": "text/x-python",
   "name": "python",
   "nbconvert_exporter": "python",
   "pygments_lexer": "ipython3",
   "version": "3.8.0"
  },
  "orig_nbformat": 4
 },
 "nbformat": 4,
 "nbformat_minor": 2
}
